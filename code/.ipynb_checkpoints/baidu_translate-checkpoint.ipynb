{
 "cells": [
  {
   "cell_type": "markdown",
   "id": "c963bed5-9d08-4597-a070-2daa49cd5b48",
   "metadata": {},
   "source": [
    "# 百度翻译平台 API 调用"
   ]
  },
  {
   "cell_type": "code",
   "execution_count": 25,
   "id": "408cd41f-3c8c-4ad3-856f-88f1cc333cdf",
   "metadata": {
    "tags": []
   },
   "outputs": [],
   "source": [
    "import pandas as pd\n",
    "import requests\n",
    "import random\n",
    "import json\n",
    "from hashlib import md5"
   ]
  },
  {
   "cell_type": "code",
   "execution_count": 26,
   "id": "3e75ac89-cc83-43f4-8b98-dc4ef117f3b6",
   "metadata": {
    "tags": []
   },
   "outputs": [],
   "source": [
    "# 读取关键字并以列表的形式返回\n",
    "def read_keywords(source_file, source_column=\"Keyword\"):\n",
    "    df = pd.read_excel(source_file)\n",
    "    keyword = df[source_column]\n",
    "    keyword_list = keyword.tolist() # 转换为列表\n",
    "    return keyword_list"
   ]
  },
  {
   "cell_type": "code",
   "execution_count": 27,
   "id": "a776b1f9-0dcb-4444-9773-7b753276cd25",
   "metadata": {
    "tags": []
   },
   "outputs": [],
   "source": [
    "# 定义密钥对\n",
    "appid = \"20230324001613259\"\n",
    "appkey = \"AeR5nUox29U8pSELRgk8\""
   ]
  },
  {
   "cell_type": "code",
   "execution_count": 28,
   "id": "dd31fee3-8534-4ece-99b7-fc1482f81fac",
   "metadata": {
    "tags": []
   },
   "outputs": [],
   "source": [
    "# 设置接口\n",
    "endpoint = 'http://api.fanyi.baidu.com'\n",
    "path = '/api/trans/vip/translate'\n",
    "url = endpoint + path"
   ]
  },
  {
   "cell_type": "code",
   "execution_count": 31,
   "id": "54852f3c-aeb0-4514-9690-d38d104defdd",
   "metadata": {
    "tags": []
   },
   "outputs": [],
   "source": [
    "# 设置目标语言&转换语言\n",
    "from_lang = 'en'\n",
    "to_lang =  'zh'"
   ]
  },
  {
   "cell_type": "code",
   "execution_count": 47,
   "id": "736d0ccf-a7f9-4869-a26a-f34d7e59b64c",
   "metadata": {
    "tags": []
   },
   "outputs": [],
   "source": [
    "def translate_keywords(source_file, source_column=\"Keyword\"):\n",
    "    \n",
    "    query = str(read_keywords(source_file, source_column))\n",
    "    # 生成签名sign\n",
    "    def make_md5(s, encoding='utf-8'):\n",
    "        return md5(s.encode(encoding)).hexdigest()\n",
    "\n",
    "    salt = random.randint(32768, 65536)\n",
    "    sign = make_md5(appid + query + str(salt) + appkey)\n",
    "    \n",
    "    payload = {\n",
    "        'appid': appid,\n",
    "        \"from\": from_lang,\n",
    "        \"to\": to_lang,\n",
    "        \"q\": query,\n",
    "        'salt': salt,\n",
    "        'sign': sign\n",
    "    }\n",
    "    headers = {\n",
    "        'Content-Type': 'application/x-www-form-urlencoded',\n",
    "    }\n",
    "    \n",
    "    # 发送请求并获取返回结果\n",
    "    r = requests.post(url, params=payload, headers=headers)\n",
    "    result = r.json()\n",
    "\n",
    "    # 解析并提取trans_result的dst\n",
    "    if result.get(\"error_code\") is None: # 没有错误码\n",
    "        trans_result = result.get(\"trans_result\") # 获取翻译结果数组\n",
    "        dst_list = [] # 创建一个空列表\n",
    "        for item in trans_result: # 遍历数组\n",
    "            dst = item.get(\"dst\") # 获取目标语言翻译结果\n",
    "            dst_list.append(dst) # 把dst添加到列表中\n",
    "        return dst_list # 打印或处理列表\n",
    "    else: # 有错误码\n",
    "        return result.post(\"error_msg\") # 打印错误信息"
   ]
  },
  {
   "cell_type": "code",
   "execution_count": 48,
   "id": "5c3d4f3c-5706-4d3a-ba0c-618d40db7245",
   "metadata": {
    "tags": []
   },
   "outputs": [
    {
     "data": {
      "text/plain": [
       "['[‘偏振诱导叶绿素荧光’、‘光合作用’、‘初级生产总值’、‘叶绿素荧光’，‘诱导叶绿素荧光‘、‘检索’、‘模型’、‘反射率’、‘叶片’、‘植被’、‘温度’、‘干旱’、‘光利用效率’、‘MODIS’、‘PHOTOSYSTEM-II’、‘冠层’、‘遥感’、‘水分胁迫’、‘植物指数’、‘气孔导度’、‘荧光’、’照片化学反射率指数”、“碳”、“气候变化”、“二氧化碳”、“光合能力”、“生产力”、“动力学”、“光能利用效率”、“GOME-2”、“卫星”、“生长”、“净生态系统交换”、“NDVI”、“酚学”、“模拟”、，“叶面积指数”、“田间”、“森林”、“空气传播”、“叶黄素循环”、“反应”、“指数”、《指数》、“土壤水分”、“OCO-2”、“光抑制”、“二氧化碳同化”、“影响”、“散射”、“空间”、“荧光”、“陆地总量”、“CO2”、“灵敏度”、“红色”、“降水”、“光谱”、“交换”、“冠层结构”、“土壤湿度”、“辐射”、“树冠光合作用”，“可变性”、“生态系统”、“通量”、“利用效率”、“初级生产力”、“产量”、“卫星测量”、“陆地叶绿素荧光”、“对流层”、“蒸腾作用”、“植被酚学”、“高光谱”、“年际变率”、“见解”、“光系统-I”、，“春季酚学”、“性能”、“田间光谱”、“水分胁迫”、“能量”、“地表酚学”，“半干旱生态系统”、“太阳紫外线辐射”、“范围”、“小麦”、“机器学习”、“中国”、“光保护”、“任务”、“电子传输”、“影响”、“作物产量”、“光合作用活性辐射”、，“叶绿素”、“阳光诱导的叶绿素荧光”、“紫外线辐射”、“净初级生产力”、“参数”、“通量”、“纯光合作用”、“碳循环”、“B辐射”、《激光雷达》、“PRI”、“农业干旱”、“EDDY-协方差”、“压力检测”、“不确定性”、“季节性”、“氮”、“驯化”、“浮游植物”、“时间序列”、“辐射利用效率”、“蒸发”，“冬季热量”、“大气二氧化碳”、“土地”、“模式”、“电子设备”、“玉米”、“科学”、“冠层反射率”、“植被荧光”、“陆地生态系统”、“辐射转移模型”、“能量耗散”、“吸收”、“北方森林”、“青藏高原”、“成像光谱”、“呼吸”、“量子产量”、“模型”、，“光谱分辨率”、“陆地生物圈”、“光谱仪”、“水胁迫检测”、“用水效率”、“碳二氧化物吸收”、“状态”、“土壤”、“高光谱遥感”、“蒸汽压不足”、“非光化学猝灭”、“SENTINEL-5前体”、“二氧化碳通量”、“校准”、“GOSAT”、“辐射转移”、“生长季节”、“叶面积”、“日变化”，“光学特性”、“叶片光学特性”和“系统”、“远程估计”、“光合季节性”、“高光谱图像”、“气体交换”、“叶绿素A荧光”、“农业”、“缩小规模”、“光合作用效率”、“叶面积指数”、“增强植被指数”、，“轨道碳观测站-2”、“通量网”、“数据同化”、“V-CMAX”、“热带森林”、“GOSIF”、“北方”、“UV-B”、“验证”、“紫外线辐射”、“藻类”、“尺度”、“资料集”、“森林”、，“归一化差异植被指数”、“辐射转移”、“干旱监测”、“绿色度”、“卫星遥感”、“苏格兰松”、“放射利用效率”、“海洋酸化”、“碳平衡”、“能量转移”、《温带》、“质量”、“探针”、“产品”、“平台”、“红色荧光”、“陆地表面模型”、“蛋白质”、“植物”、“日光诱导叶绿素”、“算法”，“光利用效率（LUE）”、“LAI”、“叶绿素含量”、“太阳诱导的叶绿素荧光”、“叶片叶绿素含量”，“草地”、“BRDF”、“预测”、“空间分辨率”、“小麦产量”、“随机森林”、“作物”、“亚马逊”、“炒作”、“地表模型”、，“植物酚学”、“叶片衰老”、“光合活性”、“蓝藻”、“生物量”、“紫外线辐射”、“森林砍伐”、“水稻”、“毒性”、“次生代谢产物”、“植被表观反射率”、“植物胁迫”、“水平测量”、“模拟”、“远红色”、“表面反射率”、，“重吸收”、“光谱”、“高温”、“比率”、“辐射利用率”、“树冠”、“算法”、“二氧化碳回收算法”、《水蒸气》、“光利用效率”、“时空模式”、“单位状态”、“四层转换光谱仪”、“气体观测卫星”、“差异植被指数”、“氧化应激”、“天线”、“排放量”]']"
      ]
     },
     "execution_count": 48,
     "metadata": {},
     "output_type": "execute_result"
    }
   ],
   "source": [
    "inputFile = './output/keyword_counts.xlsx'\n",
    "translate_keywords(inputFile)"
   ]
  },
  {
   "cell_type": "code",
   "execution_count": null,
   "id": "aa2b7e9a-dc33-4674-aeaf-3b5ba4890d84",
   "metadata": {},
   "outputs": [],
   "source": []
  },
  {
   "cell_type": "code",
   "execution_count": null,
   "id": "43fb3a32-97fe-4191-a9ee-928f226de428",
   "metadata": {},
   "outputs": [],
   "source": []
  }
 ],
 "metadata": {
  "kernelspec": {
   "display_name": "Python 3 (ipykernel)",
   "language": "python",
   "name": "python3"
  },
  "language_info": {
   "codemirror_mode": {
    "name": "ipython",
    "version": 3
   },
   "file_extension": ".py",
   "mimetype": "text/x-python",
   "name": "python",
   "nbconvert_exporter": "python",
   "pygments_lexer": "ipython3",
   "version": "3.9.15"
  }
 },
 "nbformat": 4,
 "nbformat_minor": 5
}
