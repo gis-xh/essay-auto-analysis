{
 "cells": [
  {
   "cell_type": "markdown",
   "id": "e6771e57-5e01-44f7-a0a7-278b70e719a9",
   "metadata": {},
   "source": [
    "# 腾讯云机器翻译API调用"
   ]
  },
  {
   "cell_type": "code",
   "execution_count": 1,
   "id": "39cb1327-3b19-4ca3-9f87-90892d52ddf7",
   "metadata": {},
   "outputs": [],
   "source": [
    "import json\n",
    "import pandas as pd\n",
    "# 导入腾讯云机器翻译API相关模块\n",
    "from tencentcloud.common import credential\n",
    "from tencentcloud.common.profile.client_profile import ClientProfile\n",
    "from tencentcloud.common.profile.http_profile import HttpProfile\n",
    "from tencentcloud.common.exception.tencent_cloud_sdk_exception import TencentCloudSDKException\n",
    "from tencentcloud.tmt.v20180321 import tmt_client, models"
   ]
  },
  {
   "cell_type": "code",
   "execution_count": 2,
   "id": "01f34864-55e6-425f-a0d6-5982e6e65715",
   "metadata": {},
   "outputs": [],
   "source": [
    "# 读取列名并以列表的形式返回内容\n",
    "def read_column(source_file, source_column):\n",
    "    source_df = pd.read_excel(source_file) # 读取原文件为一个DataFrame\n",
    "    # 将表头进行翻译\n",
    "    # source_df.columns=[\"原文标题\", \"研究区位置\", \"时间跨度\", \"研究方法\", \"研究结果\"]\n",
    "    words = source_df[source_column]\n",
    "    words_list = words.tolist() # 转换为列表\n",
    "    return words_list"
   ]
  },
  {
   "cell_type": "code",
   "execution_count": 3,
   "id": "5464cdf2-97fd-424e-aeff-3e2162e98aeb",
   "metadata": {},
   "outputs": [],
   "source": [
    "# 定义密钥对\n",
    "SecretId = \"AKIDpW7YlusdAUbVAbnkTFn5KUXURGuPjtwo\"\n",
    "SecretKey = \"hIivtfAxXyGRXTHvMfswthnvujVBh0Gi\""
   ]
  },
  {
   "cell_type": "code",
   "execution_count": 4,
   "id": "1bed0ec7-456c-4a59-beb9-5c1d827b43a4",
   "metadata": {
    "tags": []
   },
   "outputs": [],
   "source": [
    "# 批量翻译\n",
    "def translate_words(source_file, source_column):\n",
    "    # 实例化一个认证对象，入参需要传入腾讯云账户 SecretId 和 SecretKey\n",
    "    cred = credential.Credential(SecretId, SecretKey)\n",
    "    # 实例化一个http选项，可选的，没有特殊需求可以跳过\n",
    "    httpProfile = HttpProfile()\n",
    "    httpProfile.endpoint = \"tmt.tencentcloudapi.com\"\n",
    "\n",
    "    # 实例化一个client选项，可选的，没有特殊需求可以跳过\n",
    "    clientProfile = ClientProfile()\n",
    "    clientProfile.httpProfile = httpProfile\n",
    "    # 实例化要请求产品的client对象,clientProfile是可选的\n",
    "    client = tmt_client.TmtClient(cred, \"ap-beijing\", clientProfile)\n",
    "\n",
    "    words_list = read_column(source_file, source_column)\n",
    "\n",
    "    # 实例化一个请求对象,每个接口都会对应一个request对象\n",
    "    req = models.TextTranslateBatchRequest()\n",
    "    params = {\n",
    "        \"Source\": \"auto\",\n",
    "        \"Target\": \"zh\",\n",
    "        \"ProjectId\": 1286675,\n",
    "        \"SourceTextList\": words_list\n",
    "    }\n",
    "    req.from_json_string(json.dumps(params))\n",
    "\n",
    "    # 返回的resp是一个TextTranslateBatchResponse的实例，与请求对象对应\n",
    "    resp = client.TextTranslateBatch(req)\n",
    "\n",
    "    target_text_list = resp.TargetTextList  # 获取翻译结果值\n",
    "    return target_text_list"
   ]
  },
  {
   "cell_type": "code",
   "execution_count": 17,
   "id": "eeabc9e9-b690-4f8b-bba6-7dc5e3ff2fb9",
   "metadata": {
    "tags": []
   },
   "outputs": [],
   "source": [
    "# 翻译结果存储\n",
    "def write_results(source_file, source_column, target_file, target_column):\n",
    "    source_df = pd.read_excel(source_file) # 读取原文件为一个DataFrame\n",
    "    target_text_list = translate_words(source_file, source_column) # 调用翻译函数，返回一个list\n",
    "    target_df = pd.DataFrame(target_text_list, columns=[target_column]) # 将list转换为一个DataFrame，并指定列名\n",
    "    new_df = source_df.join(target_df) # 将两个DataFrame按照索引合并为一个新的DataFrame\n",
    "    new_df.to_excel(target_file, index=False) # 将新的DataFrame直接写入到文件中，指定index参数"
   ]
  },
  {
   "cell_type": "code",
   "execution_count": 22,
   "id": "2c4b7296-ee9a-42a4-a3ec-64b921f16ce9",
   "metadata": {
    "tags": []
   },
   "outputs": [],
   "source": [
    "inputFile = './input/translation.xlsx'\n",
    "outputFile = './output/after_translation.xlsx'\n",
    "# read_column(inputFile, \"Method\")\n",
    "# translate_words(inputFile, \"Keyword\")\n",
    "# df1 = pd.read_excel(inputFile)\n",
    "# df1.columns"
   ]
  },
  {
   "cell_type": "code",
   "execution_count": 25,
   "id": "08f22f6c-7c9a-4523-873f-ec5b6acb5acf",
   "metadata": {
    "tags": []
   },
   "outputs": [],
   "source": [
    "source_column = \"Location\" # 源文本所在列名，需要与源文件一致\n",
    "target_column = \"Location_Translation\" # 翻译结果所在列名，会创建在目标文件中\n",
    "write_results(inputFile, source_column, outputFile, target_column)"
   ]
  },
  {
   "cell_type": "code",
   "execution_count": null,
   "id": "2807d8dd-ede5-49d0-9ef2-c61f3aac2d1b",
   "metadata": {
    "tags": []
   },
   "outputs": [],
   "source": [
    "source_column = \"Method\"\n",
    "write_results(inputFile, outputFile, source_column)"
   ]
  },
  {
   "cell_type": "code",
   "execution_count": null,
   "id": "4f9c3095-3993-48fa-b34c-3c8833433d04",
   "metadata": {},
   "outputs": [],
   "source": []
  }
 ],
 "metadata": {
  "kernelspec": {
   "display_name": "Python 3 (ipykernel)",
   "language": "python",
   "name": "python3"
  },
  "language_info": {
   "codemirror_mode": {
    "name": "ipython",
    "version": 3
   },
   "file_extension": ".py",
   "mimetype": "text/x-python",
   "name": "python",
   "nbconvert_exporter": "python",
   "pygments_lexer": "ipython3",
   "version": "3.9.15"
  }
 },
 "nbformat": 4,
 "nbformat_minor": 5
}
