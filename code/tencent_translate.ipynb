{
 "cells": [
  {
   "cell_type": "markdown",
   "id": "e6771e57-5e01-44f7-a0a7-278b70e719a9",
   "metadata": {},
   "source": [
    "# 腾讯云机器翻译API调用"
   ]
  },
  {
   "cell_type": "code",
   "execution_count": 1,
   "id": "39cb1327-3b19-4ca3-9f87-90892d52ddf7",
   "metadata": {},
   "outputs": [],
   "source": [
    "import json\n",
    "import pandas as pd\n",
    "# 导入腾讯云机器翻译API相关模块\n",
    "from tencentcloud.common import credential\n",
    "from tencentcloud.common.profile.client_profile import ClientProfile\n",
    "from tencentcloud.common.profile.http_profile import HttpProfile\n",
    "from tencentcloud.common.exception.tencent_cloud_sdk_exception import TencentCloudSDKException\n",
    "from tencentcloud.tmt.v20180321 import tmt_client, models"
   ]
  },
  {
   "cell_type": "code",
   "execution_count": 2,
   "id": "01f34864-55e6-425f-a0d6-5982e6e65715",
   "metadata": {},
   "outputs": [],
   "source": [
    "# 读取列名并以列表的形式返回内容\n",
    "def read_column(source_file, source_column):\n",
    "    source_df = pd.read_excel(source_file) # 读取原文件为一个DataFrame\n",
    "    # 将表头进行翻译\n",
    "    # source_df.columns=[\"原文标题\", \"研究区位置\", \"时间跨度\", \"研究方法\", \"研究结果\"]\n",
    "    words = source_df[source_column]\n",
    "    words_list = words.tolist() # 转换为列表\n",
    "    return words_list"
   ]
  },
  {
   "cell_type": "code",
   "execution_count": 3,
   "id": "5464cdf2-97fd-424e-aeff-3e2162e98aeb",
   "metadata": {},
   "outputs": [],
   "source": [
    "# 定义密钥对\n",
    "SecretId = \"AKIDpW7YlusdAUbVAbnkTFn5KUXURGuPjtwo\"\n",
    "SecretKey = \"hIivtfAxXyGRXTHvMfswthnvujVBh0Gi\""
   ]
  },
  {
   "cell_type": "code",
   "execution_count": 4,
   "id": "1bed0ec7-456c-4a59-beb9-5c1d827b43a4",
   "metadata": {
    "tags": []
   },
   "outputs": [],
   "source": [
    "# 批量翻译\n",
    "def translate_words(source_file, source_column):\n",
    "    # 实例化一个认证对象，入参需要传入腾讯云账户 SecretId 和 SecretKey\n",
    "    cred = credential.Credential(SecretId, SecretKey)\n",
    "    # 实例化一个http选项，可选的，没有特殊需求可以跳过\n",
    "    httpProfile = HttpProfile()\n",
    "    httpProfile.endpoint = \"tmt.tencentcloudapi.com\"\n",
    "\n",
    "    # 实例化一个client选项，可选的，没有特殊需求可以跳过\n",
    "    clientProfile = ClientProfile()\n",
    "    clientProfile.httpProfile = httpProfile\n",
    "    # 实例化要请求产品的client对象,clientProfile是可选的\n",
    "    client = tmt_client.TmtClient(cred, \"ap-beijing\", clientProfile)\n",
    "\n",
    "    words_list = read_column(source_file, source_column)\n",
    "\n",
    "    # 实例化一个请求对象,每个接口都会对应一个request对象\n",
    "    req = models.TextTranslateBatchRequest()\n",
    "    params = {\n",
    "        \"Source\": \"auto\",\n",
    "        \"Target\": \"zh\",\n",
    "        \"ProjectId\": 1286675,\n",
    "        \"SourceTextList\": words_list\n",
    "    }\n",
    "    req.from_json_string(json.dumps(params))\n",
    "\n",
    "    # 返回的resp是一个TextTranslateBatchResponse的实例，与请求对象对应\n",
    "    resp = client.TextTranslateBatch(req)\n",
    "\n",
    "    target_text_list = resp.TargetTextList  # 获取翻译结果值\n",
    "    return target_text_list"
   ]
  },
  {
   "cell_type": "code",
   "execution_count": 17,
   "id": "eeabc9e9-b690-4f8b-bba6-7dc5e3ff2fb9",
   "metadata": {
    "tags": []
   },
   "outputs": [],
   "source": [
    "# 翻译结果存储\n",
    "def write_results(source_file, source_column, target_file, target_column):\n",
    "    source_df = pd.read_excel(source_file) # 读取原文件为一个DataFrame\n",
    "    target_text_list = translate_words(source_file, source_column) # 调用翻译函数，返回一个list\n",
    "    target_df = pd.DataFrame(target_text_list, columns=[target_column]) # 将list转换为一个DataFrame，并指定列名\n",
    "    new_df = source_df.join(target_df) # 将两个DataFrame按照索引合并为一个新的DataFrame\n",
    "    new_df.to_excel(target_file, index=False) # 将新的DataFrame直接写入到文件中，指定index参数"
   ]
  },
  {
   "cell_type": "code",
   "execution_count": 22,
   "id": "2c4b7296-ee9a-42a4-a3ec-64b921f16ce9",
   "metadata": {
    "tags": []
   },
   "outputs": [],
   "source": [
    "inputFile = './input/translation.xlsx'\n",
    "outputFile = './output/after_translation.xlsx'\n",
    "# read_column(inputFile, \"Method\")\n",
    "# translate_words(inputFile, \"Keyword\")\n",
    "# df1 = pd.read_excel(inputFile)\n",
    "# df1.columns"
   ]
  },
  {
   "cell_type": "code",
   "execution_count": 26,
   "id": "08f22f6c-7c9a-4523-873f-ec5b6acb5acf",
   "metadata": {
    "tags": []
   },
   "outputs": [
    {
     "ename": "TencentCloudSDKException",
     "evalue": "[TencentCloudSDKException] code:InvalidParameter message:对于指定content-type=application/json协议下，请求内容不是合法的Json格式。 requestId:aafed8fe-e36d-42e3-9180-c9b6b3f1ad47",
     "output_type": "error",
     "traceback": [
      "\u001b[1;31m---------------------------------------------------------------------------\u001b[0m",
      "\u001b[1;31mTencentCloudSDKException\u001b[0m                  Traceback (most recent call last)",
      "Cell \u001b[1;32mIn[26], line 3\u001b[0m\n\u001b[0;32m      1\u001b[0m source_column \u001b[38;5;241m=\u001b[39m \u001b[38;5;124m\"\u001b[39m\u001b[38;5;124mLocation\u001b[39m\u001b[38;5;124m\"\u001b[39m \u001b[38;5;66;03m# 源文本所在列名，需要与源文件一致\u001b[39;00m\n\u001b[0;32m      2\u001b[0m target_column \u001b[38;5;241m=\u001b[39m \u001b[38;5;124m\"\u001b[39m\u001b[38;5;124mLocation_Translation\u001b[39m\u001b[38;5;124m\"\u001b[39m \u001b[38;5;66;03m# 翻译结果所在列名，会创建在目标文件中\u001b[39;00m\n\u001b[1;32m----> 3\u001b[0m \u001b[43mwrite_results\u001b[49m\u001b[43m(\u001b[49m\u001b[43minputFile\u001b[49m\u001b[43m,\u001b[49m\u001b[43m \u001b[49m\u001b[43msource_column\u001b[49m\u001b[43m,\u001b[49m\u001b[43m \u001b[49m\u001b[43moutputFile\u001b[49m\u001b[43m,\u001b[49m\u001b[43m \u001b[49m\u001b[43mtarget_column\u001b[49m\u001b[43m)\u001b[49m\n",
      "Cell \u001b[1;32mIn[17], line 4\u001b[0m, in \u001b[0;36mwrite_results\u001b[1;34m(source_file, source_column, target_file, target_column)\u001b[0m\n\u001b[0;32m      2\u001b[0m \u001b[38;5;28;01mdef\u001b[39;00m \u001b[38;5;21mwrite_results\u001b[39m(source_file, source_column, target_file, target_column):\n\u001b[0;32m      3\u001b[0m     source_df \u001b[38;5;241m=\u001b[39m pd\u001b[38;5;241m.\u001b[39mread_excel(source_file) \u001b[38;5;66;03m# 读取原文件为一个DataFrame\u001b[39;00m\n\u001b[1;32m----> 4\u001b[0m     target_text_list \u001b[38;5;241m=\u001b[39m \u001b[43mtranslate_words\u001b[49m\u001b[43m(\u001b[49m\u001b[43msource_file\u001b[49m\u001b[43m,\u001b[49m\u001b[43m \u001b[49m\u001b[43msource_column\u001b[49m\u001b[43m)\u001b[49m \u001b[38;5;66;03m# 调用翻译函数，返回一个list\u001b[39;00m\n\u001b[0;32m      5\u001b[0m     target_df \u001b[38;5;241m=\u001b[39m pd\u001b[38;5;241m.\u001b[39mDataFrame(target_text_list, columns\u001b[38;5;241m=\u001b[39m[target_column]) \u001b[38;5;66;03m# 将list转换为一个DataFrame，并指定列名\u001b[39;00m\n\u001b[0;32m      6\u001b[0m     new_df \u001b[38;5;241m=\u001b[39m source_df\u001b[38;5;241m.\u001b[39mjoin(target_df) \u001b[38;5;66;03m# 将两个DataFrame按照索引合并为一个新的DataFrame\u001b[39;00m\n",
      "Cell \u001b[1;32mIn[4], line 28\u001b[0m, in \u001b[0;36mtranslate_words\u001b[1;34m(source_file, source_column)\u001b[0m\n\u001b[0;32m     25\u001b[0m req\u001b[38;5;241m.\u001b[39mfrom_json_string(json\u001b[38;5;241m.\u001b[39mdumps(params))\n\u001b[0;32m     27\u001b[0m \u001b[38;5;66;03m# 返回的resp是一个TextTranslateBatchResponse的实例，与请求对象对应\u001b[39;00m\n\u001b[1;32m---> 28\u001b[0m resp \u001b[38;5;241m=\u001b[39m \u001b[43mclient\u001b[49m\u001b[38;5;241;43m.\u001b[39;49m\u001b[43mTextTranslateBatch\u001b[49m\u001b[43m(\u001b[49m\u001b[43mreq\u001b[49m\u001b[43m)\u001b[49m\n\u001b[0;32m     30\u001b[0m target_text_list \u001b[38;5;241m=\u001b[39m resp\u001b[38;5;241m.\u001b[39mTargetTextList  \u001b[38;5;66;03m# 获取翻译结果值\u001b[39;00m\n\u001b[0;32m     31\u001b[0m \u001b[38;5;28;01mreturn\u001b[39;00m target_text_list\n",
      "File \u001b[1;32mE:\\Miniconda3\\envs\\data01\\lib\\site-packages\\tencentcloud\\tmt\\v20180321\\tmt_client.py:186\u001b[0m, in \u001b[0;36mTmtClient.TextTranslateBatch\u001b[1;34m(self, request)\u001b[0m\n\u001b[0;32m    184\u001b[0m params \u001b[38;5;241m=\u001b[39m request\u001b[38;5;241m.\u001b[39m_serialize()\n\u001b[0;32m    185\u001b[0m headers \u001b[38;5;241m=\u001b[39m request\u001b[38;5;241m.\u001b[39mheaders\n\u001b[1;32m--> 186\u001b[0m body \u001b[38;5;241m=\u001b[39m \u001b[38;5;28;43mself\u001b[39;49m\u001b[38;5;241;43m.\u001b[39;49m\u001b[43mcall\u001b[49m\u001b[43m(\u001b[49m\u001b[38;5;124;43m\"\u001b[39;49m\u001b[38;5;124;43mTextTranslateBatch\u001b[39;49m\u001b[38;5;124;43m\"\u001b[39;49m\u001b[43m,\u001b[49m\u001b[43m \u001b[49m\u001b[43mparams\u001b[49m\u001b[43m,\u001b[49m\u001b[43m \u001b[49m\u001b[43mheaders\u001b[49m\u001b[38;5;241;43m=\u001b[39;49m\u001b[43mheaders\u001b[49m\u001b[43m)\u001b[49m\n\u001b[0;32m    187\u001b[0m response \u001b[38;5;241m=\u001b[39m json\u001b[38;5;241m.\u001b[39mloads(body)\n\u001b[0;32m    188\u001b[0m model \u001b[38;5;241m=\u001b[39m models\u001b[38;5;241m.\u001b[39mTextTranslateBatchResponse()\n",
      "File \u001b[1;32mE:\\Miniconda3\\envs\\data01\\lib\\site-packages\\tencentcloud\\common\\abstract_client.py:364\u001b[0m, in \u001b[0;36mAbstractClient.call\u001b[1;34m(self, action, params, options, headers)\u001b[0m\n\u001b[0;32m    362\u001b[0m \u001b[38;5;28mself\u001b[39m\u001b[38;5;241m.\u001b[39m_check_status(resp_inter)\n\u001b[0;32m    363\u001b[0m data \u001b[38;5;241m=\u001b[39m resp_inter\u001b[38;5;241m.\u001b[39mdata\n\u001b[1;32m--> 364\u001b[0m \u001b[38;5;28;43mself\u001b[39;49m\u001b[38;5;241;43m.\u001b[39;49m\u001b[43m_handle_response\u001b[49m\u001b[43m(\u001b[49m\u001b[43mdata\u001b[49m\u001b[43m)\u001b[49m\n\u001b[0;32m    365\u001b[0m \u001b[38;5;28;01mreturn\u001b[39;00m data\n",
      "File \u001b[1;32mE:\\Miniconda3\\envs\\data01\\lib\\site-packages\\tencentcloud\\common\\abstract_client.py:347\u001b[0m, in \u001b[0;36mAbstractClient._handle_response\u001b[1;34m(self, data)\u001b[0m\n\u001b[0;32m    345\u001b[0m     message \u001b[38;5;241m=\u001b[39m resp[\u001b[38;5;124m\"\u001b[39m\u001b[38;5;124mResponse\u001b[39m\u001b[38;5;124m\"\u001b[39m][\u001b[38;5;124m\"\u001b[39m\u001b[38;5;124mError\u001b[39m\u001b[38;5;124m\"\u001b[39m][\u001b[38;5;124m\"\u001b[39m\u001b[38;5;124mMessage\u001b[39m\u001b[38;5;124m\"\u001b[39m]\n\u001b[0;32m    346\u001b[0m     reqid \u001b[38;5;241m=\u001b[39m resp[\u001b[38;5;124m\"\u001b[39m\u001b[38;5;124mResponse\u001b[39m\u001b[38;5;124m\"\u001b[39m][\u001b[38;5;124m\"\u001b[39m\u001b[38;5;124mRequestId\u001b[39m\u001b[38;5;124m\"\u001b[39m]\n\u001b[1;32m--> 347\u001b[0m     \u001b[38;5;28;01mraise\u001b[39;00m TencentCloudSDKException(code, message, reqid)\n\u001b[0;32m    348\u001b[0m \u001b[38;5;28;01mif\u001b[39;00m \u001b[38;5;124m\"\u001b[39m\u001b[38;5;124mDeprecatedWarning\u001b[39m\u001b[38;5;124m\"\u001b[39m \u001b[38;5;129;01min\u001b[39;00m resp[\u001b[38;5;124m\"\u001b[39m\u001b[38;5;124mResponse\u001b[39m\u001b[38;5;124m\"\u001b[39m]:\n\u001b[0;32m    349\u001b[0m     \u001b[38;5;28;01mimport\u001b[39;00m \u001b[38;5;21;01mwarnings\u001b[39;00m\n",
      "\u001b[1;31mTencentCloudSDKException\u001b[0m: [TencentCloudSDKException] code:InvalidParameter message:对于指定content-type=application/json协议下，请求内容不是合法的Json格式。 requestId:aafed8fe-e36d-42e3-9180-c9b6b3f1ad47"
     ]
    }
   ],
   "source": [
    "source_column = \"Location\" # 源文本所在列名，需要与源文件一致\n",
    "target_column = \"Location_Translation\" # 翻译结果所在列名，会创建在目标文件中\n",
    "write_results(inputFile, source_column, outputFile, target_column)"
   ]
  },
  {
   "cell_type": "code",
   "execution_count": null,
   "id": "2807d8dd-ede5-49d0-9ef2-c61f3aac2d1b",
   "metadata": {
    "tags": []
   },
   "outputs": [],
   "source": [
    "source_column = \"Method\"\n",
    "write_results(inputFile, outputFile, source_column)"
   ]
  },
  {
   "cell_type": "code",
   "execution_count": null,
   "id": "4f9c3095-3993-48fa-b34c-3c8833433d04",
   "metadata": {},
   "outputs": [],
   "source": []
  }
 ],
 "metadata": {
  "kernelspec": {
   "display_name": "Python 3 (ipykernel)",
   "language": "python",
   "name": "python3"
  },
  "language_info": {
   "codemirror_mode": {
    "name": "ipython",
    "version": 3
   },
   "file_extension": ".py",
   "mimetype": "text/x-python",
   "name": "python",
   "nbconvert_exporter": "python",
   "pygments_lexer": "ipython3",
   "version": "3.9.15"
  }
 },
 "nbformat": 4,
 "nbformat_minor": 5
}
